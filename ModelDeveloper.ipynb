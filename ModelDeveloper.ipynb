{
 "cells": [
  {
   "cell_type": "code",
   "execution_count": null,
   "metadata": {},
   "outputs": [],
   "source": [
    "#Regresión lineal simple,multiple y polinómica\n",
    "#Evaluacion del modelo usando visualización\n",
    "#"
   ]
  },
  {
   "cell_type": "code",
   "execution_count": null,
   "metadata": {},
   "outputs": [],
   "source": [
    "import numpy as np\n",
    "import pandas as pd\n",
    "from sklearn.linear_model import LinearRegression\n",
    "persona ={'Nombre':['Juan','Pedro','Maria','Luis','Ana','Pablo','Carmen','Alberto','Rosa','Luisa'],\n",
    "       'Edad':[23,78,22,19,45,33,20,44,23,31],\n",
    "       'Género':['M','H','M','H','M','H','M','H','M','M'],\n",
    "       'Calificacion':[89,57,79,23,67,98,46,74,91,92]}\n",
    "df=pd.DataFrame(persona)\n",
    "lm=LinearRegression()   #creamos un objeto de la clase LinearRegression\n",
    "\n",
    "#Regresión lineal simple\n",
    "#definimos las varibles predictoras y la variable dependiente\n",
    "x =df['Edad']\n",
    "y =df['Calificacion'] \n",
    "#ajustamos el modelo para enontrar b0 y b1\n",
    "#Entrenamos el modelo utilizando el método fit()\n",
    "\n",
    "#lm.fit(x,y)\n",
    "\n",
    "\n",
    "\n",
    "prediccion=lm.predict(x)\n",
    "#b0 es el intercepto\n",
    "print(lm.intercept_)\n",
    "\n",
    "#b1 es el coeficiente de la variable independiente\n",
    "print(lm.coef_)\n",
    "\n",
    "\n",
    "# seria restar la interseccion de la recta con el coeficiente de la variable independiente y multiplicar por la variable independiente\n",
    "#Evaluación del modelo\n",
    "print(prediccion)"
   ]
  },
  {
   "cell_type": "code",
   "execution_count": null,
   "metadata": {},
   "outputs": [],
   "source": [
    "import pandas as pd\n",
    "from sklearn.linear_model import LinearRegression\n",
    "\n",
    "# Supongamos que df es un DataFrame con los datos cargados\n",
    "df = pd.read_csv(\"datos.csv\")  # Cargar los datos desde un archivo CSV (ajustar según sea necesario)\n",
    "\n",
    "# 1. Extraer las 4 variables predictoras y almacenarlas en Z\n",
    "Z = df[['horsepower', 'curb-weight', 'engine-size', 'highway-mpg']]\n",
    "\n",
    "# 2. Entrenar el modelo\n",
    "lm = LinearRegression()\n",
    "lm.fit(Z, df['price'])\n",
    "\n",
    "# 3. Realizar una predicción\n",
    "Yhat = lm.predict(Z)  # Si X es otro conjunto de datos, usarlo en lugar de Z\n",
    "\n",
    "# Mostrar las primeras predicciones\n",
    "print(Yhat[:5])\n"
   ]
  }
 ],
 "metadata": {
  "kernelspec": {
   "display_name": "Python 3",
   "language": "python",
   "name": "python3"
  },
  "language_info": {
   "codemirror_mode": {
    "name": "ipython",
    "version": 3
   },
   "file_extension": ".py",
   "mimetype": "text/x-python",
   "name": "python",
   "nbconvert_exporter": "python",
   "pygments_lexer": "ipython3",
   "version": "3.12.0"
  }
 },
 "nbformat": 4,
 "nbformat_minor": 2
}
