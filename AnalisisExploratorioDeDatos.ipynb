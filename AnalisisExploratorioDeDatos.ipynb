{
 "cells": [
  {
   "cell_type": "code",
   "execution_count": null,
   "metadata": {},
   "outputs": [],
   "source": [
    "#Descriptive statistics for the data\n",
    "#Group by\n",
    "#ANOVA\n",
    "#Correlation\n",
    "#Correlation statistics"
   ]
  },
  {
   "cell_type": "code",
   "execution_count": 16,
   "metadata": {},
   "outputs": [
    {
     "name": "stdout",
     "output_type": "stream",
     "text": [
      "0.2513931798045805\n"
     ]
    }
   ],
   "source": [
    "import pandas as pd\n",
    "import numpy as np\n",
    "\n",
    "df=pd.read_csv('C:/Users/arley/OneDrive/Documentos/AprendiendoApiPython/merged_dataset.csv')\n",
    "correlacion =df['rating'].corr(df['num_reviews'])\n",
    "print(correlacion)\n",
    "\n",
    "\n"
   ]
  },
  {
   "cell_type": "code",
   "execution_count": 12,
   "metadata": {},
   "outputs": [
    {
     "name": "stdout",
     "output_type": "stream",
     "text": [
      "<class 'pandas.core.frame.DataFrame'>\n",
      "RangeIndex: 1500 entries, 0 to 1499\n",
      "Data columns (total 9 columns):\n",
      " #   Column        Non-Null Count  Dtype  \n",
      "---  ------        --------------  -----  \n",
      " 0   name          1500 non-null   object \n",
      " 1   year          1500 non-null   int64  \n",
      " 2   movie_rated   1500 non-null   object \n",
      " 3   run_length    1500 non-null   object \n",
      " 4   genres        1500 non-null   object \n",
      " 5   release_date  1500 non-null   object \n",
      " 6   rating        1500 non-null   float64\n",
      " 7   num_raters    1500 non-null   int64  \n",
      " 8   num_reviews   1500 non-null   int64  \n",
      "dtypes: float64(1), int64(3), object(5)\n",
      "memory usage: 105.6+ KB\n"
     ]
    }
   ],
   "source": [
    "#df.pivot(index='date', columns='variable', values='value') para hacer un pivot table\n",
    "\n",
    "df.info()"
   ]
  },
  {
   "cell_type": "code",
   "execution_count": 13,
   "metadata": {},
   "outputs": [
    {
     "name": "stdout",
     "output_type": "stream",
     "text": [
      "                                                name  year movie_rated  \\\n",
      "0                                          Inception  2010       PG-13   \n",
      "1  The Lord of the Rings: The Fellowship of the Ring  2001       PG-13   \n",
      "2      The Lord of the Rings: The Return of the King  2003       PG-13   \n",
      "3                              The Dark Knight Rises  2012       PG-13   \n",
      "4              The Lord of the Rings: The Two Towers  2002       PG-13   \n",
      "\n",
      "  run_length                       genres            release_date  rating  \\\n",
      "0   2h 28min  Action; Adventure; Sci-Fi;       16 July 2010 (USA)     8.8   \n",
      "1   2h 58min   Action; Adventure; Drama;   19 December 2001 (USA)     8.8   \n",
      "2   3h 21min  Adventure; Drama; Fantasy;   17 December 2003 (USA)     8.9   \n",
      "3   2h 44min          Action; Adventure;       20 July 2012 (USA)     8.4   \n",
      "4   2h 59min  Adventure; Drama; Fantasy;   18 December 2002 (USA)     8.7   \n",
      "\n",
      "   num_raters  num_reviews  \n",
      "0     1981675         3820  \n",
      "1     1609165         5365  \n",
      "2     1593859         3681  \n",
      "3     1470329         2979  \n",
      "4     1440188         2559  \n"
     ]
    }
   ],
   "source": [
    "#Utilizando agrupacion con pandas\n",
    "\n",
    "df.groupby(['genres'])['num_reviews'].sum()\n",
    "print(df.head())"
   ]
  }
 ],
 "metadata": {
  "kernelspec": {
   "display_name": "Python 3",
   "language": "python",
   "name": "python3"
  },
  "language_info": {
   "codemirror_mode": {
    "name": "ipython",
    "version": 3
   },
   "file_extension": ".py",
   "mimetype": "text/x-python",
   "name": "python",
   "nbconvert_exporter": "python",
   "pygments_lexer": "ipython3",
   "version": "3.12.0"
  }
 },
 "nbformat": 4,
 "nbformat_minor": 2
}
