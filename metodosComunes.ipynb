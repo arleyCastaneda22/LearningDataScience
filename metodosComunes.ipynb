{
 "cells": [
  {
   "cell_type": "code",
   "execution_count": 2,
   "metadata": {},
   "outputs": [
    {
     "name": "stdout",
     "output_type": "stream",
     "text": [
      "  Nombre  edad     Ciudad\n",
      "0   Juan  25.0     Madrid\n",
      "1    Ana  18.0  Barcelona\n",
      "2   Luis  45.0    Sevilla\n",
      "3  Laura  32.0   Valencia\n",
      "4  Pedro   NaN           \n"
     ]
    }
   ],
   "source": [
    "import pandas as pd\n",
    "import numpy as np \n",
    "Personas ={ \n",
    "'Nombre': ['Juan', 'Ana', 'Luis', 'Laura', 'Pedro'],   \n",
    "'edad':[25, 18, 45, 32, None], \n",
    "'Ciudad': ['Madrid', 'Barcelona', 'Sevilla', 'Valencia', '']\n",
    "}\n",
    "\n",
    "df=pd.DataFrame(Personas)\n",
    "print(df.head()) #Muestra las primeras 3 filas"
   ]
  },
  {
   "cell_type": "code",
   "execution_count": 3,
   "metadata": {},
   "outputs": [
    {
     "name": "stdout",
     "output_type": "stream",
     "text": [
      "  Nombre  edad     Ciudad\n",
      "0   Juan  25.0     Madrid\n",
      "1    Ana  18.0  Barcelona\n",
      "2   Luis  45.0    Sevilla\n",
      "3  Laura  32.0   Valencia\n",
      "4  Pedro   0.0           \n"
     ]
    }
   ],
   "source": [
    "#Elimina las filas con valores nulos\n",
    "\n",
    "df['edad'] = df['edad'].fillna(0) #Permite remplazar valores Nan por 0 #Reemplaza los valores nulos por 0\n",
    "\n",
    " #Reemplaza los valores nulos por Bilbao\n",
    "print(df.head()) #Muestra las primeras 3 filas"
   ]
  },
  {
   "cell_type": "code",
   "execution_count": null,
   "metadata": {},
   "outputs": [
    {
     "name": "stdout",
     "output_type": "stream",
     "text": [
      "  Nombre  edad/2     Ciudad\n",
      "0   Juan    12.5     Madrid\n",
      "1    Ana     9.0  Barcelona\n",
      "2   Luis    22.5    Sevilla\n",
      "3  Laura    16.0   Valencia\n"
     ]
    }
   ],
   "source": [
    "df['edad']=df['edad']/2 #Divide la columna edad entre 2, pero quiero enfatizar en que puedo remplazar valores por datoos que me interesen\n",
    "df.rename(columns={'edad':'edad/2'}, inplace=True) #Cambia el nombre de la columna edad por edad/2\n",
    "print(df.head()) #Muestra las primeras 3 filas"
   ]
  },
  {
   "cell_type": "code",
   "execution_count": 8,
   "metadata": {},
   "outputs": [
    {
     "name": "stdout",
     "output_type": "stream",
     "text": [
      "<class 'pandas.core.frame.DataFrame'>\n",
      "RangeIndex: 5 entries, 0 to 4\n",
      "Data columns (total 3 columns):\n",
      " #   Column  Non-Null Count  Dtype \n",
      "---  ------  --------------  ----- \n",
      " 0   Nombre  5 non-null      object\n",
      " 1   edad    5 non-null      int64 \n",
      " 2   Ciudad  5 non-null      object\n",
      "dtypes: int64(1), object(2)\n",
      "memory usage: 252.0+ bytes\n",
      "None\n",
      "            edad\n",
      "count   5.000000\n",
      "mean   28.600000\n",
      "std    10.454664\n",
      "min    18.000000\n",
      "25%    23.000000\n",
      "50%    25.000000\n",
      "75%    32.000000\n",
      "max    45.000000\n",
      "Index(['Nombre', 'edad', 'Ciudad'], dtype='object')\n",
      "(5, 3)\n",
      "  Nombre  edad     Ciudad\n",
      "0   Juan    25     Madrid\n",
      "1    Ana    18  Barcelona\n",
      "2   Luis    45    Sevilla\n",
      "3  Laura    32   Valencia\n",
      "4  Pedro    23     Bilbao\n",
      "15\n"
     ]
    }
   ],
   "source": [
    "print(df.info()) #Muestra información del dataframe\n",
    "print(df.describe()) #Muestra estadísticas del dataframe\n",
    "print(df.columns) #Muestra las columnas\n",
    "print(df.shape) #Muestra las dimensiones del dataframe\n",
    "print(df.dropna()) #Elimina las filas con valores nulos\n",
    "print(df.size) #Muestra el tamaño del dataframe"
   ]
  },
  {
   "cell_type": "code",
   "execution_count": 9,
   "metadata": {},
   "outputs": [
    {
     "name": "stdout",
     "output_type": "stream",
     "text": [
      "  Nombre      edad     Ciudad\n",
      "0   Juan -0.434099     Madrid\n",
      "1    Ana -1.041838  Barcelona\n",
      "2   Luis  1.302298    Sevilla\n",
      "3  Laura  0.173640   Valencia\n",
      "4  Pedro       NaN           \n"
     ]
    }
   ],
   "source": [
    "#Normalización de datos\n",
    "#El primer metodo se llama escalado simple de caracteristica, simplemente se divide cada valor\n",
    "#  por el valor maximo de la columna\n",
    "#df['edad/2']=df['edad/2']/df['edad/2'].max()\n",
    "\n",
    "#El segundo metodo se llama Min-Max, se resta el valor minimo de la columna \n",
    "# y se divide por la diferencia\n",
    "minimo=df['edad'].min()\n",
    "maximo=df['edad'].max()\n",
    "df['edad']=(df['edad']-minimo)/(maximo-minimo) #Min-Max\n",
    "\n",
    "#El tercer metodo se llama Z-score, se resta la media(promedio) de la columna \n",
    "# y se divide por la desviación estándar\n",
    "df[\"edad\"]=(df[\"edad\"]-df[\"edad\"].mean())/df[\"edad\"].std() #Z-score\n",
    "\n",
    "print(df.head()) #Muestra las primeras 3 filas\n",
    "\n"
   ]
  },
  {
   "cell_type": "code",
   "execution_count": 4,
   "metadata": {},
   "outputs": [
    {
     "name": "stdout",
     "output_type": "stream",
     "text": [
      "  Nombre  edad     Ciudad edad-binned\n",
      "0   Juan  25.0     Madrid       Medio\n",
      "1    Ana  18.0  Barcelona       Medio\n",
      "2   Luis  45.0    Sevilla        Alto\n",
      "3  Laura  32.0   Valencia        Alto\n",
      "4  Pedro   0.0                   Bajo\n"
     ]
    }
   ],
   "source": [
    "#Bining en Python con Pandas se utiliza para convertir una variable numérica en una variable categórica\n",
    "\n",
    "bins=np.linspace(min(df['edad']),max(df['edad']),4) #Divide la columna edad en 4 partes\n",
    "\n",
    "df['edad-binned']=pd.cut(df['edad'],bins,labels=['Bajo','Medio','Alto'],include_lowest=True) #Crea una nueva columna llamada edad-binned con los valores Bajo, Medio y Alto\n",
    "print(df.head()) #Muestra las primeras 3 filas"
   ]
  },
  {
   "cell_type": "code",
   "execution_count": 16,
   "metadata": {},
   "outputs": [
    {
     "name": "stdout",
     "output_type": "stream",
     "text": [
      "[12. 14. 16. 18. 20. 22. 24. 26. 28. 30. 32. 34. 36.]\n"
     ]
    }
   ],
   "source": [
    "espacio =np.linspace(12,36,13)\n",
    "print(espacio) #Muestra los valores de la variable espacio"
   ]
  },
  {
   "cell_type": "code",
   "execution_count": 5,
   "metadata": {},
   "outputs": [
    {
     "name": "stdout",
     "output_type": "stream",
     "text": [
      "  Nombre  edad     Ciudad  edad-binned_Bajo  edad-binned_Medio  \\\n",
      "0   Juan  25.0     Madrid             False               True   \n",
      "1    Ana  18.0  Barcelona             False               True   \n",
      "2   Luis  45.0    Sevilla             False              False   \n",
      "3  Laura  32.0   Valencia             False              False   \n",
      "4  Pedro   0.0                         True              False   \n",
      "\n",
      "   edad-binned_Alto  \n",
      "0             False  \n",
      "1             False  \n",
      "2              True  \n",
      "3              True  \n",
      "4             False  \n"
     ]
    }
   ],
   "source": [
    "#Codificación one hot en Python con Pandas\n",
    "df=pd.get_dummies(df,columns=['edad-binned']) #Crea columnas con los valores de la columna edad-binned\n",
    "\n",
    "print(df.head()) #Muestra las primeras 3 filas"
   ]
  },
  {
   "cell_type": "code",
   "execution_count": null,
   "metadata": {},
   "outputs": [],
   "source": []
  }
 ],
 "metadata": {
  "kernelspec": {
   "display_name": "Python 3",
   "language": "python",
   "name": "python3"
  },
  "language_info": {
   "codemirror_mode": {
    "name": "ipython",
    "version": 3
   },
   "file_extension": ".py",
   "mimetype": "text/x-python",
   "name": "python",
   "nbconvert_exporter": "python",
   "pygments_lexer": "ipython3",
   "version": "3.12.0"
  }
 },
 "nbformat": 4,
 "nbformat_minor": 2
}
