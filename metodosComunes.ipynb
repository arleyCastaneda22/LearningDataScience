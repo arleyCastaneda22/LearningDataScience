{
 "cells": [
  {
   "cell_type": "code",
   "execution_count": 2,
   "metadata": {},
   "outputs": [
    {
     "name": "stdout",
     "output_type": "stream",
     "text": [
      "  Nombre  edad     Ciudad\n",
      "0   Juan    25     Madrid\n",
      "1    Ana    18  Barcelona\n",
      "2   Luis    45    Sevilla\n"
     ]
    }
   ],
   "source": [
    "import pandas as pd\n",
    "\n",
    "Personas ={ \n",
    "'Nombre': ['Juan', 'Ana', 'Luis', 'Laura', 'Pedro'],   \n",
    "'edad':[25, 18, 45, 32, 23], \n",
    "'Ciudad': ['Madrid', 'Barcelona', 'Sevilla', 'Valencia', 'Bilbao']\n",
    "}\n",
    "\n",
    "df=pd.DataFrame(Personas)\n",
    "print(df.head(3)) #Muestra las primeras 3 filas"
   ]
  },
  {
   "cell_type": "code",
   "execution_count": 8,
   "metadata": {},
   "outputs": [
    {
     "name": "stdout",
     "output_type": "stream",
     "text": [
      "<class 'pandas.core.frame.DataFrame'>\n",
      "RangeIndex: 5 entries, 0 to 4\n",
      "Data columns (total 3 columns):\n",
      " #   Column  Non-Null Count  Dtype \n",
      "---  ------  --------------  ----- \n",
      " 0   Nombre  5 non-null      object\n",
      " 1   edad    5 non-null      int64 \n",
      " 2   Ciudad  5 non-null      object\n",
      "dtypes: int64(1), object(2)\n",
      "memory usage: 252.0+ bytes\n",
      "None\n",
      "            edad\n",
      "count   5.000000\n",
      "mean   28.600000\n",
      "std    10.454664\n",
      "min    18.000000\n",
      "25%    23.000000\n",
      "50%    25.000000\n",
      "75%    32.000000\n",
      "max    45.000000\n",
      "Index(['Nombre', 'edad', 'Ciudad'], dtype='object')\n",
      "(5, 3)\n",
      "  Nombre  edad     Ciudad\n",
      "0   Juan    25     Madrid\n",
      "1    Ana    18  Barcelona\n",
      "2   Luis    45    Sevilla\n",
      "3  Laura    32   Valencia\n",
      "4  Pedro    23     Bilbao\n",
      "15\n"
     ]
    }
   ],
   "source": [
    "print(df.info()) #Muestra información del dataframe\n",
    "print(df.describe()) #Muestra estadísticas del dataframe\n",
    "print(df.columns) #Muestra las columnas\n",
    "print(df.shape) #Muestra las dimensiones del dataframe\n",
    "print(df.dropna()) #Elimina las filas con valores nulos\n",
    "print(df.size) #Muestra el tamaño del dataframe"
   ]
  }
 ],
 "metadata": {
  "kernelspec": {
   "display_name": "Python 3",
   "language": "python",
   "name": "python3"
  },
  "language_info": {
   "codemirror_mode": {
    "name": "ipython",
    "version": 3
   },
   "file_extension": ".py",
   "mimetype": "text/x-python",
   "name": "python",
   "nbconvert_exporter": "python",
   "pygments_lexer": "ipython3",
   "version": "3.12.0"
  }
 },
 "nbformat": 4,
 "nbformat_minor": 2
}
